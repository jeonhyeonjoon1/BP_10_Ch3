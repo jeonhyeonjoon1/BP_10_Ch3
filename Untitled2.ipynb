{
  "nbformat": 4,
  "nbformat_minor": 0,
  "metadata": {
    "colab": {
      "provenance": [],
      "authorship_tag": "ABX9TyMBqk2/SDWOL2CxRmPUYBNH",
      "include_colab_link": true
    },
    "kernelspec": {
      "name": "python3",
      "display_name": "Python 3"
    },
    "language_info": {
      "name": "python"
    }
  },
  "cells": [
    {
      "cell_type": "markdown",
      "metadata": {
        "id": "view-in-github",
        "colab_type": "text"
      },
      "source": [
        "<a href=\"https://colab.research.google.com/github/jeonhyeonjoon1/BP_10_Ch3/blob/main/Untitled2.ipynb\" target=\"_parent\"><img src=\"https://colab.research.google.com/assets/colab-badge.svg\" alt=\"Open In Colab\"/></a>"
      ]
    },
    {
      "cell_type": "code",
      "execution_count": 2,
      "metadata": {
        "colab": {
          "base_uri": "https://localhost:8080/"
        },
        "id": "h35qfNAj1beD",
        "outputId": "5cca8e29-b16f-43e3-a081-e2df5514e488"
      },
      "outputs": [
        {
          "output_type": "stream",
          "name": "stdout",
          "text": [
            "x의 값을 입력하시오.:10\n",
            "y의 값을 입력하시오.:20\n",
            "x와 y의 합은: 30\n",
            "x와 y의 차는: -10\n",
            "x와 y의 곱은: 200\n",
            "x와 y의 평균은: 15.0\n",
            "x와 y의 큰수는: 20\n",
            "x와 y의 작은수는: 10\n"
          ]
        }
      ],
      "source": [
        "x=int(input(\"x의 값을 입력하시오.:\"))\n",
        "y=int(input(\"y의 값을 입력하시오.:\"))\n",
        "print(\"x와 y의 합은:\",x+y)\n",
        "print(\"x와 y의 차는:\",x-y)\n",
        "print(\"x와 y의 곱은:\",x*y)\n",
        "print(\"x와 y의 평균은:\",(x+y)/2)\n",
        "print(\"x와 y의 큰수는:\",max(x,y))\n",
        "print(\"x와 y의 작은수는:\",min(x,y))"
      ]
    },
    {
      "cell_type": "code",
      "source": [
        "r=float(input(\"r의 값을 입력하시오:\"))     #변수 r의 값을 사용자로부터 받는다. float형으로\n",
        "h=float(input(\"h의 값을 입력하시오:\"))     #변수 h의 값을 사용자로부터 받는다. float형으로\n",
        "vol=3.141592*r**2*h\n",
        "print(\"원기둥의 부피는\",vol,\"입니다.\")"
      ],
      "metadata": {
        "colab": {
          "base_uri": "https://localhost:8080/"
        },
        "id": "9PaYw6HJ1pFb",
        "outputId": "19c6de96-9401-4a90-b71c-dcb51068aa6f"
      },
      "execution_count": 3,
      "outputs": [
        {
          "output_type": "stream",
          "name": "stdout",
          "text": [
            "r의 값을 입력하시오:10\n",
            "h의 값을 입력하시오:100\n",
            "원기둥의 부피는 31415.92 입니다.\n"
          ]
        }
      ]
    },
    {
      "cell_type": "code",
      "source": [
        "number = int(input(\"정수를 입력하시오:\"))\n",
        "sum = 0                 #변수 sum을 0으로 초기화 한다.\n",
        "sum=sum+number%10\n",
        "number = number//10\n",
        "sum=sum+number%10\n",
        "number = number//10\n",
        "sum=sum+number%10\n",
        "number = number//10\n",
        "sum=sum+number%10\n",
        "number = number//10\n",
        "print(\"자리수의 합:\",str(sum))"
      ],
      "metadata": {
        "colab": {
          "base_uri": "https://localhost:8080/"
        },
        "id": "qdn1WJnq1wYi",
        "outputId": "70a5a400-dbc3-4c0b-832e-e634932f5ecf"
      },
      "execution_count": 4,
      "outputs": [
        {
          "output_type": "stream",
          "name": "stdout",
          "text": [
            "정수를 입력하시오:1234\n",
            "자리수의 합: 10\n"
          ]
        }
      ]
    },
    {
      "cell_type": "code",
      "source": [
        "x1=int(input(\"x1의 값:\"))\n",
        "y1=int(input(\"y1의 값:\"))\n",
        "x2=int(input(\"x2의 값:\"))\n",
        "y2=int(input(\"y2의 값:\"))\n",
        "dist=((x2-x1)**2+(y2-y1)**2)**0.5\n",
        "print(\"두점 사이의 거리=\",dist)"
      ],
      "metadata": {
        "colab": {
          "base_uri": "https://localhost:8080/"
        },
        "id": "wzr-Fy1U16FH",
        "outputId": "0ec886e7-3656-4cf8-906c-37967657b6e5"
      },
      "execution_count": 5,
      "outputs": [
        {
          "output_type": "stream",
          "name": "stdout",
          "text": [
            "x1의 값:0\n",
            "y1의 값:0\n",
            "x2의 값:100\n",
            "y2의 값:100\n",
            "두점 사이의 거리= 141.4213562373095\n"
          ]
        }
      ]
    }
  ]
}